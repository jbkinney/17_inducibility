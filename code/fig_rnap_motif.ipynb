{
 "cells": [
  {
   "cell_type": "code",
   "execution_count": 1,
   "metadata": {
    "collapsed": true
   },
   "outputs": [],
   "source": [
    "# Main imports\n",
    "import numpy as np\n",
    "import pandas as pd\n",
    "import re\n",
    "\n",
    "# Import matplotlib and such\n",
    "import matplotlib as mpl\n",
    "import matplotlib.pyplot as plt\n",
    "import matplotlib.gridspec as gridspec\n",
    "%matplotlib inline\n",
    "plt.ion()\n",
    "\n",
    "from helper_functions import \\\n",
    "    thermodynamic_model, \\\n",
    "    plot_manifold_model, \\\n",
    "    plot_manifold_measurements, \\\n",
    "    get_measurement_subset_df\n",
    "    "
   ]
  },
  {
   "cell_type": "code",
   "execution_count": 2,
   "metadata": {
    "collapsed": true
   },
   "outputs": [],
   "source": [
    "# Set global styles\n",
    "textwidth=5.5\n",
    "halfcolwidth=3\n",
    "fontsize=8\n",
    "titlesize=10\n",
    "panel_label_size=12\n",
    "legend_fontsize=7\n",
    "markersize=5\n",
    "mpl.rcParams['font.size'] = fontsize\n",
    "mpl.rcParams['text.usetex'] = False\n",
    "\n",
    "# Get default colors\n",
    "prop_cycle = plt.rcParams['axes.prop_cycle']\n",
    "colors = prop_cycle.by_key()['color']\n",
    "\n",
    "# Used to create color gradient across data points of different P values\n",
    "color_strong = np.array([.11, .69, .93])\n",
    "color_weak = np.array([1.00, .94, .21])\n",
    "\n",
    "# Conversion parameter\n",
    "kbt_to_kcal = 1/1.62\n",
    "\n",
    "# WT lac* sequence\n",
    "wt_seq = 'CAGGCTTTACACCTGTTGCCTCCGGCTCGTATGTTGTGTGG'"
   ]
  },
  {
   "cell_type": "code",
   "execution_count": 3,
   "metadata": {
    "collapsed": true
   },
   "outputs": [],
   "source": [
    "# Now evaluate energy of all sites in list\n",
    "def compute_energy(df, site):\n",
    "    L = df.shape[0]\n",
    "    assert matrix_df.shape[1] == 4, 'matrix has an invalid number of columns'\n",
    "    assert all(df.columns == list('ACGT')), 'matrix has invalid columns'\n",
    "    assert len(site)==L, 'site is the wrong length'\n",
    "    assert set(site) <= set('ACGT'), 'site contains invalid bases'\n",
    "    \n",
    "    energy = 0\n",
    "    for i, c in enumerate(site):\n",
    "        energy += df.loc[i,c]\n",
    "    return energy"
   ]
  },
  {
   "cell_type": "code",
   "execution_count": 4,
   "metadata": {},
   "outputs": [
    {
     "data": {
      "text/html": [
       "<div>\n",
       "<style scoped>\n",
       "    .dataframe tbody tr th:only-of-type {\n",
       "        vertical-align: middle;\n",
       "    }\n",
       "\n",
       "    .dataframe tbody tr th {\n",
       "        vertical-align: top;\n",
       "    }\n",
       "\n",
       "    .dataframe thead th {\n",
       "        text-align: right;\n",
       "    }\n",
       "</style>\n",
       "<table border=\"1\" class=\"dataframe\">\n",
       "  <thead>\n",
       "    <tr style=\"text-align: right;\">\n",
       "      <th></th>\n",
       "      <th>location</th>\n",
       "      <th>rnap_site</th>\n",
       "      <th>spacing</th>\n",
       "      <th>dG_mean</th>\n",
       "      <th>dG_sem</th>\n",
       "      <th>ddG_matrix</th>\n",
       "    </tr>\n",
       "  </thead>\n",
       "  <tbody>\n",
       "    <tr>\n",
       "      <th>0</th>\n",
       "      <td>b3C7</td>\n",
       "      <td>CAGGCTTTACACCTGTTGCCTCCGGCTCGTATGTTGTGTGG</td>\n",
       "      <td>-60.5</td>\n",
       "      <td>2.698659</td>\n",
       "      <td>0.033667</td>\n",
       "      <td>0.0000</td>\n",
       "    </tr>\n",
       "    <tr>\n",
       "      <th>1</th>\n",
       "      <td>b7D8</td>\n",
       "      <td>CAGGCTTTACACCTGTTGCCTCCGGCGCGTATGTTGTGTGG</td>\n",
       "      <td>-60.5</td>\n",
       "      <td>1.820122</td>\n",
       "      <td>0.033057</td>\n",
       "      <td>-0.3250</td>\n",
       "    </tr>\n",
       "    <tr>\n",
       "      <th>2</th>\n",
       "      <td>b7D9</td>\n",
       "      <td>CAGGCTTTACACCTGTTGCCTCCGGCTCGTATGTTTTGTGG</td>\n",
       "      <td>-60.5</td>\n",
       "      <td>3.393222</td>\n",
       "      <td>0.049117</td>\n",
       "      <td>0.1957</td>\n",
       "    </tr>\n",
       "    <tr>\n",
       "      <th>3</th>\n",
       "      <td>b7E1</td>\n",
       "      <td>CAGGCTTTACACCTGTTGCCTCCGGCTCGTACGTAGTGTGG</td>\n",
       "      <td>-60.5</td>\n",
       "      <td>5.297989</td>\n",
       "      <td>0.128820</td>\n",
       "      <td>1.5180</td>\n",
       "    </tr>\n",
       "    <tr>\n",
       "      <th>4</th>\n",
       "      <td>b7E2</td>\n",
       "      <td>CAGGCTTTACACCTGTTGCCTCCGGCTCGTATGTTGTGTGG</td>\n",
       "      <td>-60.5</td>\n",
       "      <td>2.929960</td>\n",
       "      <td>0.042702</td>\n",
       "      <td>0.0000</td>\n",
       "    </tr>\n",
       "  </tbody>\n",
       "</table>\n",
       "</div>"
      ],
      "text/plain": [
       "  location                                  rnap_site  spacing   dG_mean  \\\n",
       "0     b3C7  CAGGCTTTACACCTGTTGCCTCCGGCTCGTATGTTGTGTGG    -60.5  2.698659   \n",
       "1     b7D8  CAGGCTTTACACCTGTTGCCTCCGGCGCGTATGTTGTGTGG    -60.5  1.820122   \n",
       "2     b7D9  CAGGCTTTACACCTGTTGCCTCCGGCTCGTATGTTTTGTGG    -60.5  3.393222   \n",
       "3     b7E1  CAGGCTTTACACCTGTTGCCTCCGGCTCGTACGTAGTGTGG    -60.5  5.297989   \n",
       "4     b7E2  CAGGCTTTACACCTGTTGCCTCCGGCTCGTATGTTGTGTGG    -60.5  2.929960   \n",
       "\n",
       "     dG_sem  ddG_matrix  \n",
       "0  0.033667      0.0000  \n",
       "1  0.033057     -0.3250  \n",
       "2  0.049117      0.1957  \n",
       "3  0.128820      1.5180  \n",
       "4  0.042702      0.0000  "
      ]
     },
     "execution_count": 4,
     "metadata": {},
     "output_type": "execute_result"
    }
   ],
   "source": [
    "# Load RNAP results table\n",
    "tmp_df = pd.read_excel('../data/results.xlsx', sheet_name='rnap_summary')\n",
    "tmp_df.head()"
   ]
  },
  {
   "cell_type": "code",
   "execution_count": 5,
   "metadata": {},
   "outputs": [
    {
     "data": {
      "text/html": [
       "<div>\n",
       "<style scoped>\n",
       "    .dataframe tbody tr th:only-of-type {\n",
       "        vertical-align: middle;\n",
       "    }\n",
       "\n",
       "    .dataframe tbody tr th {\n",
       "        vertical-align: top;\n",
       "    }\n",
       "\n",
       "    .dataframe thead th {\n",
       "        text-align: right;\n",
       "    }\n",
       "</style>\n",
       "<table border=\"1\" class=\"dataframe\">\n",
       "  <thead>\n",
       "    <tr style=\"text-align: right;\">\n",
       "      <th></th>\n",
       "      <th>A</th>\n",
       "      <th>C</th>\n",
       "      <th>G</th>\n",
       "      <th>T</th>\n",
       "    </tr>\n",
       "  </thead>\n",
       "  <tbody>\n",
       "    <tr>\n",
       "      <th>0</th>\n",
       "      <td>0.0089</td>\n",
       "      <td>0.1109</td>\n",
       "      <td>0.0000</td>\n",
       "      <td>0.0963</td>\n",
       "    </tr>\n",
       "    <tr>\n",
       "      <th>1</th>\n",
       "      <td>0.0400</td>\n",
       "      <td>0.2615</td>\n",
       "      <td>0.0000</td>\n",
       "      <td>0.3227</td>\n",
       "    </tr>\n",
       "    <tr>\n",
       "      <th>2</th>\n",
       "      <td>0.0640</td>\n",
       "      <td>0.0240</td>\n",
       "      <td>0.0499</td>\n",
       "      <td>0.0000</td>\n",
       "    </tr>\n",
       "    <tr>\n",
       "      <th>3</th>\n",
       "      <td>0.0000</td>\n",
       "      <td>0.1247</td>\n",
       "      <td>0.0216</td>\n",
       "      <td>0.1117</td>\n",
       "    </tr>\n",
       "    <tr>\n",
       "      <th>4</th>\n",
       "      <td>0.5063</td>\n",
       "      <td>0.0463</td>\n",
       "      <td>0.0000</td>\n",
       "      <td>1.0121</td>\n",
       "    </tr>\n",
       "  </tbody>\n",
       "</table>\n",
       "</div>"
      ],
      "text/plain": [
       "        A       C       G       T\n",
       "0  0.0089  0.1109  0.0000  0.0963\n",
       "1  0.0400  0.2615  0.0000  0.3227\n",
       "2  0.0640  0.0240  0.0499  0.0000\n",
       "3  0.0000  0.1247  0.0216  0.1117\n",
       "4  0.5063  0.0463  0.0000  1.0121"
      ]
     },
     "execution_count": 5,
     "metadata": {},
     "output_type": "execute_result"
    }
   ],
   "source": [
    "# Load RNAP PSAM matrix\n",
    "matrix_df = pd.read_excel('../data/results.xlsx', sheet_name='rnap_motif')\n",
    "del matrix_df['position']\n",
    "matrix_df.head()"
   ]
  },
  {
   "cell_type": "code",
   "execution_count": 6,
   "metadata": {},
   "outputs": [
    {
     "data": {
      "text/plain": [
       "[-60.5,\n",
       " -61.5,\n",
       " -62.5,\n",
       " -63.5,\n",
       " -64.5,\n",
       " -65.5,\n",
       " -66.5,\n",
       " -71.5,\n",
       " -72.5,\n",
       " -76.5,\n",
       " -81.5,\n",
       " -82.5]"
      ]
     },
     "execution_count": 6,
     "metadata": {},
     "output_type": "execute_result"
    }
   ],
   "source": [
    "spacings = list(set(tmp_df['spacing']))\n",
    "spacings.sort()\n",
    "spacings = spacings[::-1]\n",
    "spacings"
   ]
  },
  {
   "cell_type": "code",
   "execution_count": 7,
   "metadata": {},
   "outputs": [
    {
     "data": {
      "text/plain": [
       "3.05511888693376"
      ]
     },
     "execution_count": 7,
     "metadata": {},
     "output_type": "execute_result"
    }
   ],
   "source": [
    "# Compute energy of wt sequence\n",
    "wt_indices = [seq==wt_seq for seq in tmp_df['rnap_site']]\n",
    "wt_dG = np.mean(tmp_df['dG_mean'][wt_indices])\n",
    "wt_dG"
   ]
  },
  {
   "cell_type": "code",
   "execution_count": 8,
   "metadata": {},
   "outputs": [
    {
     "name": "stdout",
     "output_type": "stream",
     "text": [
      "Spacing -60.5: 21 points plotted.\n",
      "Spacing -61.5: 44 points plotted.\n",
      "Spacing -62.5: 23 points plotted.\n",
      "Spacing -63.5: 20 points plotted.\n",
      "Spacing -64.5: 17 points plotted.\n",
      "Spacing -65.5: 17 points plotted.\n",
      "Spacing -66.5: 16 points plotted.\n",
      "Spacing -71.5: 35 points plotted.\n",
      "Spacing -72.5: 19 points plotted.\n",
      "Spacing -76.5: 16 points plotted.\n",
      "Spacing -81.5: 32 points plotted.\n",
      "Spacing -82.5: 19 points plotted.\n",
      "Total: 279 points plotted.\n"
     ]
    },
    {
     "data": {
      "image/png": "[encoded data removed]",
      "text/plain": [
       "<matplotlib.figure.Figure at 0x10fccf550>"
      ]
     },
     "metadata": {},
     "output_type": "display_data"
    }
   ],
   "source": [
    "### Figure 5 ###\n",
    "\n",
    "fig, ax = plt.subplots(1,1,figsize=[textwidth,2.5])\n",
    "gs = gridspec.GridSpec(2, 2, top=.90, bottom=.20, left=.05, right=.90, hspace=.4, wspace=.4)\n",
    "\n",
    "##### Panel A\n",
    "\n",
    "## Display RNAP model ##\n",
    "ax = plt.subplot(gs[1,0])\n",
    "\n",
    "import seaborn as sns\n",
    "    \n",
    "# Plot matrix\n",
    "sns.heatmap(data=matrix_df.T, ax=ax, cmap=\"PiYG\", center=0, vmax=3, vmin=-2, cbar_kws={'label': 'kcal/mol'})\n",
    "\n",
    "L = len(matrix_df)\n",
    "\n",
    "\n",
    "# Plot dots\n",
    "bases = 'ACGT'\n",
    "for i, c in enumerate(wt_seq):\n",
    "    j = bases.find(c)\n",
    "    ax.plot(i+.5,j+.5,'|k', markersize=3, alpha=.2)\n",
    "\n",
    "# Style plot\n",
    "ax.set_xticks(np.arange(1,L,10)+.5)\n",
    "ax.set_xticklabels(np.arange(-L+1,0,10), rotation=45)\n",
    "ax.set_yticks(np.arange(4)+.5)\n",
    "ax.set_yticklabels(list('ACGT'), rotation=0)\n",
    "#ax.set_aspect(4)\n",
    "sns.reset_orig()\n",
    "\n",
    "##### Panel B\n",
    "\n",
    "## Display scatter plot ##\n",
    "ax = plt.subplot(gs[:,1])\n",
    "\n",
    "# Compute lims\n",
    "ylim = np.array([-1,8])\n",
    "xlim = np.array([-3,6])\n",
    "\n",
    "# Plot best-fit diagonal line\n",
    "ax.plot(xlim, wt_dG+xlim, '--', color='gray')\n",
    "\n",
    "# Get default color list\n",
    "prop_cycle = plt.rcParams['axes.prop_cycle']\n",
    "colors = prop_cycle.by_key()['color']\n",
    "\n",
    "matrix_energies = tmp_df['ddG_matrix']\n",
    "manifold_energies = tmp_df['dG_mean']\n",
    "d_manifold_energies = tmp_df['dG_sem']\n",
    "crp_centers = tmp_df['spacing']\n",
    "\n",
    "total_points_plotted = 0\n",
    "for n, spacing in enumerate(spacings):\n",
    "        \n",
    "    color = colors[n%len(colors)]\n",
    "    spacing_str = '%.1f'%spacing\n",
    "    indices = (crp_centers == spacing) & (d_manifold_energies < 1.62)\n",
    "\n",
    "    # Plot data\n",
    "    if sum(indices) > 0:\n",
    "        ax.errorbar(matrix_energies[indices], manifold_energies[indices], d_manifold_energies[indices], \n",
    "                    marker='o', markersize=3, color=color, linestyle='none', elinewidth=1, label=spacing_str, \n",
    "                    alpha=1)\n",
    "        total_points_plotted += sum(indices)\n",
    "\n",
    "    print('Spacing %.1f: %d points plotted.'%(spacing,sum(indices)))\n",
    "\n",
    "print('Total: %d points plotted.'%(total_points_plotted))\n",
    "    \n",
    "#ax.legend(handletextpad=0, fontsize=7)\n",
    "ax.legend(loc='center left', bbox_to_anchor=(1, 0.5), handletextpad=0, fontsize=7)\n",
    "\n",
    "# Style plot\n",
    "ax.set_ylabel('Measured $\\Delta G_P$ (kcal/mol)')\n",
    "ax.set_yticks([0,2,4,6,8])\n",
    "ax.set_xticks([-2,0,2,4,6])\n",
    "ax.set_xlabel('Predicted $\\Delta\\Delta G_P$ (kcal/mol)')\n",
    "ax.set_ylim(ylim)\n",
    "ax.set_xlim(xlim)\n",
    "ax.set_aspect('equal')\n",
    "\n",
    "### Add panel labels\n",
    "plt.figtext(.01,.98,'(A)', fontsize=panel_label_size, horizontalalignment='left', verticalalignment='top')\n",
    "plt.figtext(.47,.98,'(B)', fontsize=panel_label_size, horizontalalignment='left', verticalalignment='top')\n",
    "\n",
    "plt.savefig('../figures/plt_rnap_motif.pdf', transparent=True)"
   ]
  },
  {
   "cell_type": "code",
   "execution_count": null,
   "metadata": {
    "collapsed": true
   },
   "outputs": [],
   "source": []
  }
 ],
 "metadata": {
  "kernelspec": {
   "display_name": "anaconda_kernel",
   "language": "python",
   "name": "anaconda_kernel"
  },
  "language_info": {
   "codemirror_mode": {
    "name": "ipython",
    "version": 3
   },
   "file_extension": ".py",
   "mimetype": "text/x-python",
   "name": "python",
   "nbconvert_exporter": "python",
   "pygments_lexer": "ipython3",
   "version": "3.6.3"
  }
 },
 "nbformat": 4,
 "nbformat_minor": 1
}
